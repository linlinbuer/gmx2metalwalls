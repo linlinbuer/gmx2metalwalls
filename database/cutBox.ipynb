{
 "cells": [
  {
   "cell_type": "code",
   "execution_count": 5,
   "id": "dba240bf-a3bd-4c2c-ad33-2243c7d59b2a",
   "metadata": {},
   "outputs": [],
   "source": [
    "import MDAnalysis as mda\n",
    "import numpy as np"
   ]
  },
  {
   "cell_type": "code",
   "execution_count": 6,
   "id": "c630e1e5-afee-4fba-a4fc-f0b3540860f5",
   "metadata": {},
   "outputs": [],
   "source": [
    "u = mda.Universe('gold_au_big.xyz')"
   ]
  },
  {
   "cell_type": "code",
   "execution_count": 7,
   "id": "fc0c4263",
   "metadata": {},
   "outputs": [
    {
     "data": {
      "text/plain": [
       "<AtomGroup with 810 atoms>"
      ]
     },
     "execution_count": 7,
     "metadata": {},
     "output_type": "execute_result"
    }
   ],
   "source": [
    "au1 = u.select_atoms(\"name Au1\")\n",
    "au2 = u.select_atoms(\"name Au2\")\n",
    "au2.translate([0, 0, -37.7940])"
   ]
  },
  {
   "cell_type": "code",
   "execution_count": 8,
   "id": "361e8a42",
   "metadata": {},
   "outputs": [],
   "source": [
    "# Apply numerical filtering for x < 50 and y < 50\n",
    "filtered_au1 = au1[[atom.position[0] < 50 and atom.position[1] < 50 for atom in au1]]\n",
    "filtered_au2 = au2[[atom.position[0] < 50 and atom.position[1] < 50 for atom in au2]]\n",
    "\n",
    "all_au = filtered_au1 + filtered_au2\n",
    "# Write to an XYZ file\n",
    "all_au.write(\"gold_au.xyz\")\n",
    "\n",
    "# print(f\"Saved {len(filtered_gold)} gold atoms to Au_small_box.xyz\")"
   ]
  },
  {
   "cell_type": "code",
   "execution_count": null,
   "id": "aa47638b",
   "metadata": {},
   "outputs": [],
   "source": []
  },
  {
   "cell_type": "code",
   "execution_count": null,
   "id": "c53dedc0",
   "metadata": {},
   "outputs": [],
   "source": []
  },
  {
   "cell_type": "code",
   "execution_count": null,
   "id": "d223f91a",
   "metadata": {},
   "outputs": [],
   "source": []
  }
 ],
 "metadata": {
  "kernelspec": {
   "display_name": "Python 3",
   "language": "python",
   "name": "python3"
  },
  "language_info": {
   "codemirror_mode": {
    "name": "ipython",
    "version": 3
   },
   "file_extension": ".py",
   "mimetype": "text/x-python",
   "name": "python",
   "nbconvert_exporter": "python",
   "pygments_lexer": "ipython3",
   "version": "3.9.2"
  }
 },
 "nbformat": 4,
 "nbformat_minor": 5
}
